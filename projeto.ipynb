{
 "cells": [
  {
   "cell_type": "markdown",
   "id": "d09ddf9e",
   "metadata": {},
   "source": [
    "Bibliotecas para manipular áudio\n"
   ]
  },
  {
   "cell_type": "code",
   "execution_count": 1,
   "id": "6dc2e700",
   "metadata": {},
   "outputs": [],
   "source": [
    "import sounddevice as sd\n",
    "import matplotlib.pyplot as plt\n",
    "import numpy as np\n",
    "from scipy.io import wavfile"
   ]
  },
  {
   "cell_type": "markdown",
   "id": "16207077",
   "metadata": {},
   "source": [
    "Biblioteca para manipular vídeo\n"
   ]
  },
  {
   "cell_type": "code",
   "execution_count": 2,
   "id": "7b6aa7f8",
   "metadata": {},
   "outputs": [],
   "source": [
    "from moviepy.editor import *\n",
    "import moviepy.editor as mpe\n"
   ]
  },
  {
   "cell_type": "markdown",
   "id": "ac46ace1",
   "metadata": {},
   "source": [
    "Carregando o vídeo\n"
   ]
  },
  {
   "cell_type": "code",
   "execution_count": 3,
   "id": "e0eec6ec",
   "metadata": {},
   "outputs": [],
   "source": [
    "video = VideoFileClip(\"videoprojeto.mp4\",fps_source='fps')"
   ]
  },
  {
   "cell_type": "code",
   "execution_count": 4,
   "id": "90994de3",
   "metadata": {},
   "outputs": [],
   "source": [
    "#video.ipython_display(width=480, maxduration=180) para diminuir o tamanho do arquivo"
   ]
  },
  {
   "cell_type": "markdown",
   "id": "d29e45b5",
   "metadata": {},
   "source": [
    "Invertendo de 20 em 20 segundos"
   ]
  },
  {
   "cell_type": "code",
   "execution_count": 5,
   "id": "6e173372",
   "metadata": {},
   "outputs": [],
   "source": [
    "from moviepy.editor import VideoFileClip, concatenate_videoclips, vfx\n",
    "\n",
    "def invert(frame):\n",
    "    video_inicial = VideoFileClip(frame,fps_source='fps') \n",
    "    duracao = video_inicial.duration #duracao total do video\n",
    "    segmento = 20 #tamanho dos blocos \n",
    "\n",
    "    clips = []\n",
    "\n",
    "    for inicio in range(0, int(duracao), segmento):\n",
    "        fim = min(inicio + segmento, duracao)\n",
    "        trecho = video_inicial.subclip(inicio,fim)\n",
    "\n",
    "        if(inicio // segmento) % 2 == 0:\n",
    "            clips.append(trecho)\n",
    "        else:\n",
    "            trecho_invertido = trecho.fx(vfx.mirror_x)\n",
    "            clips.append(trecho_invertido)\n",
    "        \n",
    "    # Junta todos os trechos (normais e invertidos) em um único vídeo\n",
    "    video_final = concatenate_videoclips(clips)\n",
    "\n",
    "    return video_final\n",
    "\n",
    "#chama a função para inverter\n",
    "video_invertido = invert(\"videoprojeto.mp4\")\n",
    "#mostra o video invertendo\n",
    "#video_invertido.ipython_display(width=480, maxduration=180)\n",
    "\n"
   ]
  },
  {
   "cell_type": "markdown",
   "id": "66b9a708",
   "metadata": {},
   "source": [
    "Diminuindo o áudio gradativamente\n"
   ]
  },
  {
   "cell_type": "code",
   "execution_count": 6,
   "id": "beb89807",
   "metadata": {},
   "outputs": [],
   "source": [
    "# 1. Carrega o vídeo original\n",
    "video = video_invertido\n",
    "\n",
    "# 2. Extrai o áudio original\n",
    "original_audio = video.audio\n",
    "\n",
    "duration = video.duration\n",
    "\n",
    "# 3. Função de volume por tempo\n",
    "def volume_by_time(t):\n",
    "    t = np.array(t)  # garante que t é um array (mesmo que escalar)\n",
    "    # aplica a regra de volume elemento a elemento\n",
    "    vol = np.where(\n",
    "        t > duration - 10,\n",
    "        0,\n",
    "        np.maximum(1 - 0.23 * np.floor(t / 30), 0)\n",
    "    )\n",
    "    return vol\n",
    "\n",
    "# 4. Aplica a modulação de volume ao áudio\n",
    "def apply_volume_modulation(audio_clip):\n",
    "    return audio_clip.fl(lambda gf, t: gf(t) * volume_by_time(t)[:, np.newaxis])\n",
    "\n",
    "# 5. Modifica o áudio\n",
    "audio_modificado = apply_volume_modulation(original_audio)\n",
    "\n",
    "# 6. Junta o áudio modificado ao vídeo original\n",
    "video_com_audio_modificado = video.set_audio(audio_modificado)\n",
    "\n",
    "# 7. Mostra o vídeo direto no notebook\n",
    "#video_com_audio_modificado.ipython_display(width=480, maxduration=180)\n"
   ]
  },
  {
   "cell_type": "markdown",
   "id": "5a567f1c",
   "metadata": {},
   "source": [
    "Teste para verificar se o video está diminuindo\n"
   ]
  },
  {
   "cell_type": "code",
   "execution_count": 7,
   "id": "030df4bf",
   "metadata": {},
   "outputs": [
    {
     "data": {
      "image/png": "[encoded data removed]",
      "text/plain": [
       "<Figure size 1000x400 with 1 Axes>"
      ]
     },
     "metadata": {},
     "output_type": "display_data"
    }
   ],
   "source": [
    "# duração do vídeo (já definido)\n",
    "duration = video.duration\n",
    "\n",
    "# gera tempos de 0 até duration, com passos pequenos\n",
    "times = np.linspace(0, duration, 1000)\n",
    "\n",
    "# calcula o volume para esses tempos\n",
    "volumes = volume_by_time(times)\n",
    "\n",
    "# plota o gráfico\n",
    "plt.figure(figsize=(10, 4))\n",
    "plt.plot(times, volumes, label=\"Volume ao longo do tempo\")\n",
    "plt.xlabel(\"Tempo (s)\")\n",
    "plt.ylabel(\"Volume (multiplicador)\")\n",
    "plt.title(\"Modulação de Volume no Tempo\")\n",
    "plt.grid(True)\n",
    "plt.legend()\n",
    "plt.show()"
   ]
  },
  {
   "cell_type": "markdown",
   "id": "ee6e00b7",
   "metadata": {},
   "source": [
    "Fazendo recortes\n"
   ]
  },
  {
   "cell_type": "code",
   "execution_count": 8,
   "id": "2f8b59c5",
   "metadata": {},
   "outputs": [],
   "source": [
    "part_1 = video_com_audio_modificado.subclip(0,60) #parte do video de 0 a 60 segundos\n",
    "part_2 = video_com_audio_modificado.subclip(80)\n",
    "part_3 = video_com_audio_modificado.subclip(60,80)\n",
    "\n",
    "video_final = mpe.concatenate_videoclips([part_1, part_2, part_3])\n",
    "\n",
    "#video_final.write_videofile('Video_final.mp4')\n",
    "#video_final.ipython_display(width=480, maxduration=160)"
   ]
  },
  {
   "cell_type": "markdown",
   "id": "a96c3a5b",
   "metadata": {},
   "source": [
    "https://youtu.be/Oio9KpRD4uA (video inicial)"
   ]
  },
  {
   "cell_type": "markdown",
   "id": "e8b281bc",
   "metadata": {},
   "source": [
    "https://youtu.be/-i5vdTMoMpo (video final)"
   ]
  }
 ],
 "metadata": {
  "kernelspec": {
   "display_name": "Python 3",
   "language": "python",
   "name": "python3"
  },
  "language_info": {
   "codemirror_mode": {
    "name": "ipython",
    "version": 3
   },
   "file_extension": ".py",
   "mimetype": "text/x-python",
   "name": "python",
   "nbconvert_exporter": "python",
   "pygments_lexer": "ipython3",
   "version": "3.13.2"
  }
 },
 "nbformat": 4,
 "nbformat_minor": 5
}
